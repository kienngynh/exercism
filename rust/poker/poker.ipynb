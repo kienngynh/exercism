{
 "cells": [
  {
   "cell_type": "code",
   "execution_count": 5,
   "metadata": {
    "vscode": {
     "languageId": "rust"
    }
   },
   "outputs": [],
   "source": [
    "#[derive(Debug, PartialEq, Eq, PartialOrd, Clone, Copy, Hash)]\n",
    "enum Rank {\n",
    "    Two,\n",
    "    Three,\n",
    "    Four,\n",
    "    Five,\n",
    "    Six,\n",
    "    Seven,\n",
    "    Eight,\n",
    "    Nine,\n",
    "    Ten,\n",
    "    Jack,\n",
    "    Queen,\n",
    "    King,\n",
    "    Ace,\n",
    "}\n",
    "#[derive(Debug, PartialEq, Eq, PartialOrd, Clone, Copy, Hash)]\n",
    "enum Suit {\n",
    "    Spades,\n",
    "    Clubs,\n",
    "    Diamonds,\n",
    "    Hearts,\n",
    "}\n",
    "#[derive(Debug, PartialEq, Eq, PartialOrd)]\n",
    "struct Card {\n",
    "    rank: Rank,\n",
    "    suit: Suit,\n",
    "}\n",
    "#[derive(Debug, PartialEq, Eq, PartialOrd, Clone, Copy, Hash)]\n",
    "enum Categories {\n",
    "    HighCard,\n",
    "    OnePair,\n",
    "    TwoPair,\n",
    "    ThreeOfAKing,\n",
    "    Straight,\n",
    "    Flush,\n",
    "    FullHouse,\n",
    "    FourOfAKind,\n",
    "    StraightFlush,\n",
    "}\n",
    "#[derive(Debug, PartialEq, Eq)]\n",
    "struct Hand<'a> {\n",
    "    source: &'a str,\n",
    "    cards: [Card; 5],\n",
    "    categories: Categories,\n",
    "}\n"
   ]
  }
 ],
 "metadata": {
  "kernelspec": {
   "display_name": "Rust",
   "language": "rust",
   "name": "rust"
  },
  "language_info": {
   "codemirror_mode": "rust",
   "file_extension": ".rs",
   "mimetype": "text/rust",
   "name": "Rust",
   "pygment_lexer": "rust",
   "version": ""
  },
  "orig_nbformat": 4
 },
 "nbformat": 4,
 "nbformat_minor": 2
}
